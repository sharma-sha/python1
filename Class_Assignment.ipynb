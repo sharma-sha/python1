{
 "cells": [
  {
   "cell_type": "code",
   "execution_count": 1,
   "id": "54751650",
   "metadata": {},
   "outputs": [],
   "source": [
    "from Subfields import SubfieldsInAI"
   ]
  },
  {
   "cell_type": "code",
   "execution_count": 2,
   "id": "339b6ffc",
   "metadata": {},
   "outputs": [
    {
     "name": "stdout",
     "output_type": "stream",
     "text": [
      "Sub-fields in AI are:\n",
      "Machine Learning\n",
      "Neural Networks\n",
      "Vision\n",
      "Robotics\n",
      "Speech Processing\n",
      "Natural Language Processing\n"
     ]
    }
   ],
   "source": [
    "SubfieldsInAI.Subfields()"
   ]
  },
  {
   "cell_type": "code",
   "execution_count": 3,
   "id": "9e59b864",
   "metadata": {},
   "outputs": [],
   "source": [
    "from OddEven import OddEven"
   ]
  },
  {
   "cell_type": "code",
   "execution_count": 5,
   "id": "ba21f0de",
   "metadata": {},
   "outputs": [
    {
     "name": "stdout",
     "output_type": "stream",
     "text": [
      "Enter a number: 52452\n",
      "52452 is Even number\n"
     ]
    }
   ],
   "source": [
    "OddEven.OddEven()"
   ]
  },
  {
   "cell_type": "code",
   "execution_count": 8,
   "id": "1270bfed",
   "metadata": {},
   "outputs": [],
   "source": [
    "from Elegible import ElegiblityForMarriage"
   ]
  },
  {
   "cell_type": "code",
   "execution_count": 9,
   "id": "cfb6fce4",
   "metadata": {},
   "outputs": [
    {
     "name": "stdout",
     "output_type": "stream",
     "text": [
      "Your Gender:Male\n",
      "Your Age:20\n",
      "NOT ELIGIBLE\n"
     ]
    }
   ],
   "source": [
    "ElegiblityForMarriage.Elegible()"
   ]
  },
  {
   "cell_type": "code",
   "execution_count": 10,
   "id": "e0e7543c",
   "metadata": {},
   "outputs": [],
   "source": [
    "from percentage import FindPercent"
   ]
  },
  {
   "cell_type": "code",
   "execution_count": 11,
   "id": "61094c5b",
   "metadata": {},
   "outputs": [
    {
     "name": "stdout",
     "output_type": "stream",
     "text": [
      "Subject1= 98\n",
      "Subject2= 87\n",
      "Subject3= 95\n",
      "Subject4= 95\n",
      "Subject5= 93\n",
      "Total :  468\n",
      "Percentage :  93.60000000000001\n"
     ]
    }
   ],
   "source": [
    "FindPercent.percentage()"
   ]
  },
  {
   "cell_type": "code",
   "execution_count": 13,
   "id": "9c1d5a68",
   "metadata": {},
   "outputs": [],
   "source": [
    "from triangle import triangle"
   ]
  },
  {
   "cell_type": "code",
   "execution_count": 14,
   "id": "bd270992",
   "metadata": {},
   "outputs": [
    {
     "name": "stdout",
     "output_type": "stream",
     "text": [
      "Height:32\n",
      "Breadth:34\n",
      "Area formula: (Height*Breadth)/2\n",
      "Area of Triangle:  544.0\n",
      "Height1:2\n",
      "Height2:4\n",
      "Breadth:4\n",
      "Perimeter formula: Height1+Height2+Breadth\n",
      "Perimeter of Triangle:  10\n"
     ]
    }
   ],
   "source": [
    "triangle.triangle()"
   ]
  },
  {
   "cell_type": "code",
   "execution_count": null,
   "id": "745a877f",
   "metadata": {},
   "outputs": [],
   "source": []
  }
 ],
 "metadata": {
  "kernelspec": {
   "display_name": "Python 3 (ipykernel)",
   "language": "python",
   "name": "python3"
  },
  "language_info": {
   "codemirror_mode": {
    "name": "ipython",
    "version": 3
   },
   "file_extension": ".py",
   "mimetype": "text/x-python",
   "name": "python",
   "nbconvert_exporter": "python",
   "pygments_lexer": "ipython3",
   "version": "3.11.5"
  }
 },
 "nbformat": 4,
 "nbformat_minor": 5
}
